{
 "cells": [
  {
   "cell_type": "markdown",
   "metadata": {
    "collapsed": true,
    "pycharm": {
     "name": "#%% md\n"
    }
   },
   "source": [
    "# CMSC 320 Final Project:\n",
    "# Is Height an Advantage in Professional Tennis?\n",
    "## Eric Li, Fall 2022"
   ]
  },
  {
   "cell_type": "markdown",
   "source": [
    "# Introduction"
   ],
   "metadata": {
    "collapsed": false
   }
  },
  {
   "cell_type": "markdown",
   "source": [
    "# Part 1: Data Collection"
   ],
   "metadata": {
    "collapsed": false
   }
  },
  {
   "cell_type": "code",
   "execution_count": 23,
   "outputs": [],
   "source": [
    "import pandas as pd\n",
    "import numpy as np\n",
    "import matplotlib.pyplot as plt"
   ],
   "metadata": {
    "collapsed": false,
    "pycharm": {
     "name": "#%%\n"
    }
   }
  },
  {
   "cell_type": "code",
   "execution_count": 2,
   "outputs": [
    {
     "data": {
      "text/plain": "  tourney_id tourney_name surface  draw_size tourney_level  tourney_date  \\\n0  2022-8888      Atp Cup    Hard         16             A      20220103   \n1  2022-8888      Atp Cup    Hard         16             A      20220103   \n2  2022-8888      Atp Cup    Hard         16             A      20220103   \n3  2022-8888      Atp Cup    Hard         16             A      20220103   \n4  2022-8888      Atp Cup    Hard         16             A      20220103   \n\n   match_num  winner_id winner_seed winner_entry  ... l_1stIn l_1stWon  \\\n0        300     200000         NaN          NaN  ...    50.0     32.0   \n1        299     133430         NaN          NaN  ...    33.0     21.0   \n2        298     105138         NaN          NaN  ...    80.0     62.0   \n3        297     105807         NaN          NaN  ...    27.0     17.0   \n4        296     106421         NaN          NaN  ...    35.0     22.0   \n\n   l_2ndWon l_SvGms  l_bpSaved  l_bpFaced winner_rank winner_rank_points  \\\n0       7.0    10.0        3.0        5.0        11.0             3308.0   \n1       8.0     9.0        3.0        6.0        14.0             2475.0   \n2      20.0    16.0        6.0        7.0        19.0             2260.0   \n3       1.0     7.0        4.0        8.0        20.0             2230.0   \n4       4.0     8.0        3.0        7.0         2.0             8640.0   \n\n  loser_rank loser_rank_points  \n0       19.0            2260.0  \n1       20.0            2230.0  \n2        9.0            3706.0  \n3      860.0              18.0  \n4       11.0            3308.0  \n\n[5 rows x 49 columns]",
      "text/html": "<div>\n<style scoped>\n    .dataframe tbody tr th:only-of-type {\n        vertical-align: middle;\n    }\n\n    .dataframe tbody tr th {\n        vertical-align: top;\n    }\n\n    .dataframe thead th {\n        text-align: right;\n    }\n</style>\n<table border=\"1\" class=\"dataframe\">\n  <thead>\n    <tr style=\"text-align: right;\">\n      <th></th>\n      <th>tourney_id</th>\n      <th>tourney_name</th>\n      <th>surface</th>\n      <th>draw_size</th>\n      <th>tourney_level</th>\n      <th>tourney_date</th>\n      <th>match_num</th>\n      <th>winner_id</th>\n      <th>winner_seed</th>\n      <th>winner_entry</th>\n      <th>...</th>\n      <th>l_1stIn</th>\n      <th>l_1stWon</th>\n      <th>l_2ndWon</th>\n      <th>l_SvGms</th>\n      <th>l_bpSaved</th>\n      <th>l_bpFaced</th>\n      <th>winner_rank</th>\n      <th>winner_rank_points</th>\n      <th>loser_rank</th>\n      <th>loser_rank_points</th>\n    </tr>\n  </thead>\n  <tbody>\n    <tr>\n      <th>0</th>\n      <td>2022-8888</td>\n      <td>Atp Cup</td>\n      <td>Hard</td>\n      <td>16</td>\n      <td>A</td>\n      <td>20220103</td>\n      <td>300</td>\n      <td>200000</td>\n      <td>NaN</td>\n      <td>NaN</td>\n      <td>...</td>\n      <td>50.0</td>\n      <td>32.0</td>\n      <td>7.0</td>\n      <td>10.0</td>\n      <td>3.0</td>\n      <td>5.0</td>\n      <td>11.0</td>\n      <td>3308.0</td>\n      <td>19.0</td>\n      <td>2260.0</td>\n    </tr>\n    <tr>\n      <th>1</th>\n      <td>2022-8888</td>\n      <td>Atp Cup</td>\n      <td>Hard</td>\n      <td>16</td>\n      <td>A</td>\n      <td>20220103</td>\n      <td>299</td>\n      <td>133430</td>\n      <td>NaN</td>\n      <td>NaN</td>\n      <td>...</td>\n      <td>33.0</td>\n      <td>21.0</td>\n      <td>8.0</td>\n      <td>9.0</td>\n      <td>3.0</td>\n      <td>6.0</td>\n      <td>14.0</td>\n      <td>2475.0</td>\n      <td>20.0</td>\n      <td>2230.0</td>\n    </tr>\n    <tr>\n      <th>2</th>\n      <td>2022-8888</td>\n      <td>Atp Cup</td>\n      <td>Hard</td>\n      <td>16</td>\n      <td>A</td>\n      <td>20220103</td>\n      <td>298</td>\n      <td>105138</td>\n      <td>NaN</td>\n      <td>NaN</td>\n      <td>...</td>\n      <td>80.0</td>\n      <td>62.0</td>\n      <td>20.0</td>\n      <td>16.0</td>\n      <td>6.0</td>\n      <td>7.0</td>\n      <td>19.0</td>\n      <td>2260.0</td>\n      <td>9.0</td>\n      <td>3706.0</td>\n    </tr>\n    <tr>\n      <th>3</th>\n      <td>2022-8888</td>\n      <td>Atp Cup</td>\n      <td>Hard</td>\n      <td>16</td>\n      <td>A</td>\n      <td>20220103</td>\n      <td>297</td>\n      <td>105807</td>\n      <td>NaN</td>\n      <td>NaN</td>\n      <td>...</td>\n      <td>27.0</td>\n      <td>17.0</td>\n      <td>1.0</td>\n      <td>7.0</td>\n      <td>4.0</td>\n      <td>8.0</td>\n      <td>20.0</td>\n      <td>2230.0</td>\n      <td>860.0</td>\n      <td>18.0</td>\n    </tr>\n    <tr>\n      <th>4</th>\n      <td>2022-8888</td>\n      <td>Atp Cup</td>\n      <td>Hard</td>\n      <td>16</td>\n      <td>A</td>\n      <td>20220103</td>\n      <td>296</td>\n      <td>106421</td>\n      <td>NaN</td>\n      <td>NaN</td>\n      <td>...</td>\n      <td>35.0</td>\n      <td>22.0</td>\n      <td>4.0</td>\n      <td>8.0</td>\n      <td>3.0</td>\n      <td>7.0</td>\n      <td>2.0</td>\n      <td>8640.0</td>\n      <td>11.0</td>\n      <td>3308.0</td>\n    </tr>\n  </tbody>\n</table>\n<p>5 rows × 49 columns</p>\n</div>"
     },
     "execution_count": 2,
     "metadata": {},
     "output_type": "execute_result"
    }
   ],
   "source": [
    "atp_matches_22 = pd.read_csv('/Users/ericli/Downloads/tennis_atp-master/atp_matches_2022.csv')\n",
    "atp_matches_22.head()"
   ],
   "metadata": {
    "collapsed": false,
    "pycharm": {
     "name": "#%%\n"
    }
   }
  },
  {
   "cell_type": "code",
   "execution_count": 3,
   "outputs": [
    {
     "data": {
      "text/plain": "                            tourney_id                  tourney_name surface  \\\n0                            2022-8888                       Atp Cup    Hard   \n1                            2022-8888                       Atp Cup    Hard   \n2                            2022-8888                       Atp Cup    Hard   \n3                            2022-8888                       Atp Cup    Hard   \n4                            2022-8888                       Atp Cup    Hard   \n...                                ...                           ...     ...   \n2911  2022-M-DC-2022-WG2-PO-GRE-JAM-01  Davis Cup WG2 PO: GRE vs JAM    Clay   \n2912  2022-M-DC-2022-WG2-PO-GRE-JAM-01  Davis Cup WG2 PO: GRE vs JAM    Clay   \n2913  2022-M-DC-2022-WG2-PO-HKG-BEN-01  Davis Cup WG2 PO: HKG vs BEN    Hard   \n2914  2022-M-DC-2022-WG2-PO-HKG-BEN-01  Davis Cup WG2 PO: HKG vs BEN    Hard   \n2915  2022-M-DC-2022-WG2-PO-HKG-BEN-01  Davis Cup WG2 PO: HKG vs BEN    Hard   \n\n      draw_size tourney_level  tourney_date  match_num  winner_id winner_seed  \\\n0            16             A      20220103        300     200000         NaN   \n1            16             A      20220103        299     133430         NaN   \n2            16             A      20220103        298     105138         NaN   \n3            16             A      20220103        297     105807         NaN   \n4            16             A      20220103        296     106421         NaN   \n...         ...           ...           ...        ...        ...         ...   \n2911          4             D      20220304          4     209362         NaN   \n2912          4             D      20220304          5     202065         NaN   \n2913          4             D      20220304          1     138846         NaN   \n2914          4             D      20220304          2     209409         NaN   \n2915          4             D      20220304          4     208414         NaN   \n\n     winner_entry  ... l_1stIn l_1stWon  l_2ndWon l_SvGms  l_bpSaved  \\\n0             NaN  ...    50.0     32.0       7.0    10.0        3.0   \n1             NaN  ...    33.0     21.0       8.0     9.0        3.0   \n2             NaN  ...    80.0     62.0      20.0    16.0        6.0   \n3             NaN  ...    27.0     17.0       1.0     7.0        4.0   \n4             NaN  ...    35.0     22.0       4.0     8.0        3.0   \n...           ...  ...     ...      ...       ...     ...        ...   \n2911          NaN  ...    68.0     42.0      12.0    10.0       11.0   \n2912          NaN  ...    56.0     40.0      20.0    15.0        4.0   \n2913          NaN  ...    54.0     29.0       8.0    11.0        6.0   \n2914          NaN  ...    39.0     24.0       7.0    10.0        5.0   \n2915          NaN  ...    34.0     24.0      13.0    10.0        5.0   \n\n      l_bpFaced winner_rank winner_rank_points loser_rank loser_rank_points  \n0           5.0        11.0             3308.0       19.0            2260.0  \n1           6.0        14.0             2475.0       20.0            2230.0  \n2           7.0        19.0             2260.0        9.0            3706.0  \n3           8.0        20.0             2230.0      860.0              18.0  \n4           7.0         2.0             8640.0       11.0            3308.0  \n...         ...         ...                ...        ...               ...  \n2911       13.0      1103.0                9.0     1130.0               8.0  \n2912        8.0       808.0               23.0     1390.0               4.0  \n2913       10.0      1059.0               10.0     1881.0               1.0  \n2914        9.0         NaN                NaN        NaN               NaN  \n2915        8.0         NaN                NaN        NaN               NaN  \n\n[2916 rows x 49 columns]",
      "text/html": "<div>\n<style scoped>\n    .dataframe tbody tr th:only-of-type {\n        vertical-align: middle;\n    }\n\n    .dataframe tbody tr th {\n        vertical-align: top;\n    }\n\n    .dataframe thead th {\n        text-align: right;\n    }\n</style>\n<table border=\"1\" class=\"dataframe\">\n  <thead>\n    <tr style=\"text-align: right;\">\n      <th></th>\n      <th>tourney_id</th>\n      <th>tourney_name</th>\n      <th>surface</th>\n      <th>draw_size</th>\n      <th>tourney_level</th>\n      <th>tourney_date</th>\n      <th>match_num</th>\n      <th>winner_id</th>\n      <th>winner_seed</th>\n      <th>winner_entry</th>\n      <th>...</th>\n      <th>l_1stIn</th>\n      <th>l_1stWon</th>\n      <th>l_2ndWon</th>\n      <th>l_SvGms</th>\n      <th>l_bpSaved</th>\n      <th>l_bpFaced</th>\n      <th>winner_rank</th>\n      <th>winner_rank_points</th>\n      <th>loser_rank</th>\n      <th>loser_rank_points</th>\n    </tr>\n  </thead>\n  <tbody>\n    <tr>\n      <th>0</th>\n      <td>2022-8888</td>\n      <td>Atp Cup</td>\n      <td>Hard</td>\n      <td>16</td>\n      <td>A</td>\n      <td>20220103</td>\n      <td>300</td>\n      <td>200000</td>\n      <td>NaN</td>\n      <td>NaN</td>\n      <td>...</td>\n      <td>50.0</td>\n      <td>32.0</td>\n      <td>7.0</td>\n      <td>10.0</td>\n      <td>3.0</td>\n      <td>5.0</td>\n      <td>11.0</td>\n      <td>3308.0</td>\n      <td>19.0</td>\n      <td>2260.0</td>\n    </tr>\n    <tr>\n      <th>1</th>\n      <td>2022-8888</td>\n      <td>Atp Cup</td>\n      <td>Hard</td>\n      <td>16</td>\n      <td>A</td>\n      <td>20220103</td>\n      <td>299</td>\n      <td>133430</td>\n      <td>NaN</td>\n      <td>NaN</td>\n      <td>...</td>\n      <td>33.0</td>\n      <td>21.0</td>\n      <td>8.0</td>\n      <td>9.0</td>\n      <td>3.0</td>\n      <td>6.0</td>\n      <td>14.0</td>\n      <td>2475.0</td>\n      <td>20.0</td>\n      <td>2230.0</td>\n    </tr>\n    <tr>\n      <th>2</th>\n      <td>2022-8888</td>\n      <td>Atp Cup</td>\n      <td>Hard</td>\n      <td>16</td>\n      <td>A</td>\n      <td>20220103</td>\n      <td>298</td>\n      <td>105138</td>\n      <td>NaN</td>\n      <td>NaN</td>\n      <td>...</td>\n      <td>80.0</td>\n      <td>62.0</td>\n      <td>20.0</td>\n      <td>16.0</td>\n      <td>6.0</td>\n      <td>7.0</td>\n      <td>19.0</td>\n      <td>2260.0</td>\n      <td>9.0</td>\n      <td>3706.0</td>\n    </tr>\n    <tr>\n      <th>3</th>\n      <td>2022-8888</td>\n      <td>Atp Cup</td>\n      <td>Hard</td>\n      <td>16</td>\n      <td>A</td>\n      <td>20220103</td>\n      <td>297</td>\n      <td>105807</td>\n      <td>NaN</td>\n      <td>NaN</td>\n      <td>...</td>\n      <td>27.0</td>\n      <td>17.0</td>\n      <td>1.0</td>\n      <td>7.0</td>\n      <td>4.0</td>\n      <td>8.0</td>\n      <td>20.0</td>\n      <td>2230.0</td>\n      <td>860.0</td>\n      <td>18.0</td>\n    </tr>\n    <tr>\n      <th>4</th>\n      <td>2022-8888</td>\n      <td>Atp Cup</td>\n      <td>Hard</td>\n      <td>16</td>\n      <td>A</td>\n      <td>20220103</td>\n      <td>296</td>\n      <td>106421</td>\n      <td>NaN</td>\n      <td>NaN</td>\n      <td>...</td>\n      <td>35.0</td>\n      <td>22.0</td>\n      <td>4.0</td>\n      <td>8.0</td>\n      <td>3.0</td>\n      <td>7.0</td>\n      <td>2.0</td>\n      <td>8640.0</td>\n      <td>11.0</td>\n      <td>3308.0</td>\n    </tr>\n    <tr>\n      <th>...</th>\n      <td>...</td>\n      <td>...</td>\n      <td>...</td>\n      <td>...</td>\n      <td>...</td>\n      <td>...</td>\n      <td>...</td>\n      <td>...</td>\n      <td>...</td>\n      <td>...</td>\n      <td>...</td>\n      <td>...</td>\n      <td>...</td>\n      <td>...</td>\n      <td>...</td>\n      <td>...</td>\n      <td>...</td>\n      <td>...</td>\n      <td>...</td>\n      <td>...</td>\n      <td>...</td>\n    </tr>\n    <tr>\n      <th>2911</th>\n      <td>2022-M-DC-2022-WG2-PO-GRE-JAM-01</td>\n      <td>Davis Cup WG2 PO: GRE vs JAM</td>\n      <td>Clay</td>\n      <td>4</td>\n      <td>D</td>\n      <td>20220304</td>\n      <td>4</td>\n      <td>209362</td>\n      <td>NaN</td>\n      <td>NaN</td>\n      <td>...</td>\n      <td>68.0</td>\n      <td>42.0</td>\n      <td>12.0</td>\n      <td>10.0</td>\n      <td>11.0</td>\n      <td>13.0</td>\n      <td>1103.0</td>\n      <td>9.0</td>\n      <td>1130.0</td>\n      <td>8.0</td>\n    </tr>\n    <tr>\n      <th>2912</th>\n      <td>2022-M-DC-2022-WG2-PO-GRE-JAM-01</td>\n      <td>Davis Cup WG2 PO: GRE vs JAM</td>\n      <td>Clay</td>\n      <td>4</td>\n      <td>D</td>\n      <td>20220304</td>\n      <td>5</td>\n      <td>202065</td>\n      <td>NaN</td>\n      <td>NaN</td>\n      <td>...</td>\n      <td>56.0</td>\n      <td>40.0</td>\n      <td>20.0</td>\n      <td>15.0</td>\n      <td>4.0</td>\n      <td>8.0</td>\n      <td>808.0</td>\n      <td>23.0</td>\n      <td>1390.0</td>\n      <td>4.0</td>\n    </tr>\n    <tr>\n      <th>2913</th>\n      <td>2022-M-DC-2022-WG2-PO-HKG-BEN-01</td>\n      <td>Davis Cup WG2 PO: HKG vs BEN</td>\n      <td>Hard</td>\n      <td>4</td>\n      <td>D</td>\n      <td>20220304</td>\n      <td>1</td>\n      <td>138846</td>\n      <td>NaN</td>\n      <td>NaN</td>\n      <td>...</td>\n      <td>54.0</td>\n      <td>29.0</td>\n      <td>8.0</td>\n      <td>11.0</td>\n      <td>6.0</td>\n      <td>10.0</td>\n      <td>1059.0</td>\n      <td>10.0</td>\n      <td>1881.0</td>\n      <td>1.0</td>\n    </tr>\n    <tr>\n      <th>2914</th>\n      <td>2022-M-DC-2022-WG2-PO-HKG-BEN-01</td>\n      <td>Davis Cup WG2 PO: HKG vs BEN</td>\n      <td>Hard</td>\n      <td>4</td>\n      <td>D</td>\n      <td>20220304</td>\n      <td>2</td>\n      <td>209409</td>\n      <td>NaN</td>\n      <td>NaN</td>\n      <td>...</td>\n      <td>39.0</td>\n      <td>24.0</td>\n      <td>7.0</td>\n      <td>10.0</td>\n      <td>5.0</td>\n      <td>9.0</td>\n      <td>NaN</td>\n      <td>NaN</td>\n      <td>NaN</td>\n      <td>NaN</td>\n    </tr>\n    <tr>\n      <th>2915</th>\n      <td>2022-M-DC-2022-WG2-PO-HKG-BEN-01</td>\n      <td>Davis Cup WG2 PO: HKG vs BEN</td>\n      <td>Hard</td>\n      <td>4</td>\n      <td>D</td>\n      <td>20220304</td>\n      <td>4</td>\n      <td>208414</td>\n      <td>NaN</td>\n      <td>NaN</td>\n      <td>...</td>\n      <td>34.0</td>\n      <td>24.0</td>\n      <td>13.0</td>\n      <td>10.0</td>\n      <td>5.0</td>\n      <td>8.0</td>\n      <td>NaN</td>\n      <td>NaN</td>\n      <td>NaN</td>\n      <td>NaN</td>\n    </tr>\n  </tbody>\n</table>\n<p>2916 rows × 49 columns</p>\n</div>"
     },
     "execution_count": 3,
     "metadata": {},
     "output_type": "execute_result"
    }
   ],
   "source": [
    "atp_matches_22"
   ],
   "metadata": {
    "collapsed": false,
    "pycharm": {
     "name": "#%%\n"
    }
   }
  },
  {
   "cell_type": "code",
   "execution_count": 14,
   "outputs": [
    {
     "data": {
      "text/plain": "                      winner_name winner_hand  winner_ht  wins\n192            Stefanos Tsitsipas           R      193.0    61\n69          Felix Auger Aliassime           R      193.0    60\n30                 Carlos Alcaraz           R      185.0    57\n15                  Andrey Rublev           R      188.0    51\n32                    Casper Ruud           R      183.0    51\n..                            ...         ...        ...   ...\n141             Mikhail Kukushkin           R      183.0     1\n138                  Michael Mmoh           R      188.0     1\n137           Maximilian Marterer           L      191.0     1\n133  Matheus Pucinelli De Almeida           U      183.0     1\n218                 Zsombor Piros           R      180.0     1\n\n[219 rows x 4 columns]",
      "text/html": "<div>\n<style scoped>\n    .dataframe tbody tr th:only-of-type {\n        vertical-align: middle;\n    }\n\n    .dataframe tbody tr th {\n        vertical-align: top;\n    }\n\n    .dataframe thead th {\n        text-align: right;\n    }\n</style>\n<table border=\"1\" class=\"dataframe\">\n  <thead>\n    <tr style=\"text-align: right;\">\n      <th></th>\n      <th>winner_name</th>\n      <th>winner_hand</th>\n      <th>winner_ht</th>\n      <th>wins</th>\n    </tr>\n  </thead>\n  <tbody>\n    <tr>\n      <th>192</th>\n      <td>Stefanos Tsitsipas</td>\n      <td>R</td>\n      <td>193.0</td>\n      <td>61</td>\n    </tr>\n    <tr>\n      <th>69</th>\n      <td>Felix Auger Aliassime</td>\n      <td>R</td>\n      <td>193.0</td>\n      <td>60</td>\n    </tr>\n    <tr>\n      <th>30</th>\n      <td>Carlos Alcaraz</td>\n      <td>R</td>\n      <td>185.0</td>\n      <td>57</td>\n    </tr>\n    <tr>\n      <th>15</th>\n      <td>Andrey Rublev</td>\n      <td>R</td>\n      <td>188.0</td>\n      <td>51</td>\n    </tr>\n    <tr>\n      <th>32</th>\n      <td>Casper Ruud</td>\n      <td>R</td>\n      <td>183.0</td>\n      <td>51</td>\n    </tr>\n    <tr>\n      <th>...</th>\n      <td>...</td>\n      <td>...</td>\n      <td>...</td>\n      <td>...</td>\n    </tr>\n    <tr>\n      <th>141</th>\n      <td>Mikhail Kukushkin</td>\n      <td>R</td>\n      <td>183.0</td>\n      <td>1</td>\n    </tr>\n    <tr>\n      <th>138</th>\n      <td>Michael Mmoh</td>\n      <td>R</td>\n      <td>188.0</td>\n      <td>1</td>\n    </tr>\n    <tr>\n      <th>137</th>\n      <td>Maximilian Marterer</td>\n      <td>L</td>\n      <td>191.0</td>\n      <td>1</td>\n    </tr>\n    <tr>\n      <th>133</th>\n      <td>Matheus Pucinelli De Almeida</td>\n      <td>U</td>\n      <td>183.0</td>\n      <td>1</td>\n    </tr>\n    <tr>\n      <th>218</th>\n      <td>Zsombor Piros</td>\n      <td>R</td>\n      <td>180.0</td>\n      <td>1</td>\n    </tr>\n  </tbody>\n</table>\n<p>219 rows × 4 columns</p>\n</div>"
     },
     "execution_count": 14,
     "metadata": {},
     "output_type": "execute_result"
    }
   ],
   "source": [
    "player_data = atp_matches_22.groupby(['winner_name','winner_hand','winner_ht']).size().reset_index().rename(columns={0:'wins'})\n",
    "player_data.sort_values('wins', ascending=False)"
   ],
   "metadata": {
    "collapsed": false,
    "pycharm": {
     "name": "#%%\n"
    }
   }
  },
  {
   "cell_type": "code",
   "execution_count": 15,
   "outputs": [
    {
     "data": {
      "text/plain": "                     winner_name winner_hand  winner_ht  wins\n0               Adrian Mannarino           L      183.0    28\n2                   Albert Ramos           L      188.0    25\n3    Alejandro Davidovich Fokina           R      183.0    21\n4               Alejandro Tabilo           L      188.0    17\n5               Aleksandar Vukic           R      188.0     6\n..                           ...         ...        ...   ...\n206                  Ugo Humbert           L      188.0     9\n207               Vasek Pospisil           R      193.0     5\n210             Yannick Hanfmann           R      193.0     7\n212           Yoshihito Nishioka           L      170.0    19\n216                Zhizhen Zhang           R      193.0     5\n\n[124 rows x 4 columns]",
      "text/html": "<div>\n<style scoped>\n    .dataframe tbody tr th:only-of-type {\n        vertical-align: middle;\n    }\n\n    .dataframe tbody tr th {\n        vertical-align: top;\n    }\n\n    .dataframe thead th {\n        text-align: right;\n    }\n</style>\n<table border=\"1\" class=\"dataframe\">\n  <thead>\n    <tr style=\"text-align: right;\">\n      <th></th>\n      <th>winner_name</th>\n      <th>winner_hand</th>\n      <th>winner_ht</th>\n      <th>wins</th>\n    </tr>\n  </thead>\n  <tbody>\n    <tr>\n      <th>0</th>\n      <td>Adrian Mannarino</td>\n      <td>L</td>\n      <td>183.0</td>\n      <td>28</td>\n    </tr>\n    <tr>\n      <th>2</th>\n      <td>Albert Ramos</td>\n      <td>L</td>\n      <td>188.0</td>\n      <td>25</td>\n    </tr>\n    <tr>\n      <th>3</th>\n      <td>Alejandro Davidovich Fokina</td>\n      <td>R</td>\n      <td>183.0</td>\n      <td>21</td>\n    </tr>\n    <tr>\n      <th>4</th>\n      <td>Alejandro Tabilo</td>\n      <td>L</td>\n      <td>188.0</td>\n      <td>17</td>\n    </tr>\n    <tr>\n      <th>5</th>\n      <td>Aleksandar Vukic</td>\n      <td>R</td>\n      <td>188.0</td>\n      <td>6</td>\n    </tr>\n    <tr>\n      <th>...</th>\n      <td>...</td>\n      <td>...</td>\n      <td>...</td>\n      <td>...</td>\n    </tr>\n    <tr>\n      <th>206</th>\n      <td>Ugo Humbert</td>\n      <td>L</td>\n      <td>188.0</td>\n      <td>9</td>\n    </tr>\n    <tr>\n      <th>207</th>\n      <td>Vasek Pospisil</td>\n      <td>R</td>\n      <td>193.0</td>\n      <td>5</td>\n    </tr>\n    <tr>\n      <th>210</th>\n      <td>Yannick Hanfmann</td>\n      <td>R</td>\n      <td>193.0</td>\n      <td>7</td>\n    </tr>\n    <tr>\n      <th>212</th>\n      <td>Yoshihito Nishioka</td>\n      <td>L</td>\n      <td>170.0</td>\n      <td>19</td>\n    </tr>\n    <tr>\n      <th>216</th>\n      <td>Zhizhen Zhang</td>\n      <td>R</td>\n      <td>193.0</td>\n      <td>5</td>\n    </tr>\n  </tbody>\n</table>\n<p>124 rows × 4 columns</p>\n</div>"
     },
     "execution_count": 15,
     "metadata": {},
     "output_type": "execute_result"
    }
   ],
   "source": [
    "player_data[player_data['wins'] >= 5]"
   ],
   "metadata": {
    "collapsed": false,
    "pycharm": {
     "name": "#%%\n"
    }
   }
  },
  {
   "cell_type": "code",
   "execution_count": 19,
   "outputs": [
    {
     "data": {
      "text/plain": "                     winner_name winner_hand  winner_ht  wins  losses\n0               Adrian Mannarino           L      183.0    28      26\n1           Aisam Ul Haq Qureshi           R      183.0     1       0\n2                   Albert Ramos           L      188.0    25      27\n3    Alejandro Davidovich Fokina           R      183.0    21      26\n4               Alejandro Tabilo           L      188.0    17      16\n..                           ...         ...        ...   ...     ...\n214                 Yuki Bhambri           R      183.0     2       1\n215                 Zdenek Kolar           R      185.0     1       2\n216                Zhizhen Zhang           R      193.0     5       4\n217                  Zizou Bergs           R      185.0     1       6\n218                Zsombor Piros           R      180.0     1       2\n\n[219 rows x 5 columns]",
      "text/html": "<div>\n<style scoped>\n    .dataframe tbody tr th:only-of-type {\n        vertical-align: middle;\n    }\n\n    .dataframe tbody tr th {\n        vertical-align: top;\n    }\n\n    .dataframe thead th {\n        text-align: right;\n    }\n</style>\n<table border=\"1\" class=\"dataframe\">\n  <thead>\n    <tr style=\"text-align: right;\">\n      <th></th>\n      <th>winner_name</th>\n      <th>winner_hand</th>\n      <th>winner_ht</th>\n      <th>wins</th>\n      <th>losses</th>\n    </tr>\n  </thead>\n  <tbody>\n    <tr>\n      <th>0</th>\n      <td>Adrian Mannarino</td>\n      <td>L</td>\n      <td>183.0</td>\n      <td>28</td>\n      <td>26</td>\n    </tr>\n    <tr>\n      <th>1</th>\n      <td>Aisam Ul Haq Qureshi</td>\n      <td>R</td>\n      <td>183.0</td>\n      <td>1</td>\n      <td>0</td>\n    </tr>\n    <tr>\n      <th>2</th>\n      <td>Albert Ramos</td>\n      <td>L</td>\n      <td>188.0</td>\n      <td>25</td>\n      <td>27</td>\n    </tr>\n    <tr>\n      <th>3</th>\n      <td>Alejandro Davidovich Fokina</td>\n      <td>R</td>\n      <td>183.0</td>\n      <td>21</td>\n      <td>26</td>\n    </tr>\n    <tr>\n      <th>4</th>\n      <td>Alejandro Tabilo</td>\n      <td>L</td>\n      <td>188.0</td>\n      <td>17</td>\n      <td>16</td>\n    </tr>\n    <tr>\n      <th>...</th>\n      <td>...</td>\n      <td>...</td>\n      <td>...</td>\n      <td>...</td>\n      <td>...</td>\n    </tr>\n    <tr>\n      <th>214</th>\n      <td>Yuki Bhambri</td>\n      <td>R</td>\n      <td>183.0</td>\n      <td>2</td>\n      <td>1</td>\n    </tr>\n    <tr>\n      <th>215</th>\n      <td>Zdenek Kolar</td>\n      <td>R</td>\n      <td>185.0</td>\n      <td>1</td>\n      <td>2</td>\n    </tr>\n    <tr>\n      <th>216</th>\n      <td>Zhizhen Zhang</td>\n      <td>R</td>\n      <td>193.0</td>\n      <td>5</td>\n      <td>4</td>\n    </tr>\n    <tr>\n      <th>217</th>\n      <td>Zizou Bergs</td>\n      <td>R</td>\n      <td>185.0</td>\n      <td>1</td>\n      <td>6</td>\n    </tr>\n    <tr>\n      <th>218</th>\n      <td>Zsombor Piros</td>\n      <td>R</td>\n      <td>180.0</td>\n      <td>1</td>\n      <td>2</td>\n    </tr>\n  </tbody>\n</table>\n<p>219 rows × 5 columns</p>\n</div>"
     },
     "execution_count": 19,
     "metadata": {},
     "output_type": "execute_result"
    }
   ],
   "source": [
    "losses = []\n",
    "\n",
    "for player in player_data['winner_name']:\n",
    "    sub_df = atp_matches_22[atp_matches_22['loser_name'] == player]\n",
    "    losses.append(sub_df.shape[0])\n",
    "\n",
    "player_data['losses'] = losses\n",
    "player_data"
   ],
   "metadata": {
    "collapsed": false,
    "pycharm": {
     "name": "#%%\n"
    }
   }
  },
  {
   "cell_type": "code",
   "execution_count": 36,
   "outputs": [
    {
     "name": "stderr",
     "output_type": "stream",
     "text": [
      "/var/folders/rj/9vzg3rgd2g76cnbz39qvpsqc0000gn/T/ipykernel_95884/1697672286.py:1: SettingWithCopyWarning: \n",
      "A value is trying to be set on a copy of a slice from a DataFrame.\n",
      "Try using .loc[row_indexer,col_indexer] = value instead\n",
      "\n",
      "See the caveats in the documentation: https://pandas.pydata.org/pandas-docs/stable/user_guide/indexing.html#returning-a-view-versus-a-copy\n",
      "  player_data['matches'] = player_data['wins'] + player_data['losses']\n",
      "/var/folders/rj/9vzg3rgd2g76cnbz39qvpsqc0000gn/T/ipykernel_95884/1697672286.py:2: SettingWithCopyWarning: \n",
      "A value is trying to be set on a copy of a slice from a DataFrame.\n",
      "Try using .loc[row_indexer,col_indexer] = value instead\n",
      "\n",
      "See the caveats in the documentation: https://pandas.pydata.org/pandas-docs/stable/user_guide/indexing.html#returning-a-view-versus-a-copy\n",
      "  player_data['win percentage'] = 100 * player_data['wins'] / player_data['matches']\n"
     ]
    },
    {
     "data": {
      "text/plain": "                 winner_name winner_hand  winner_ht  wins  losses  matches  \\\n155           Novak Djokovic           R      188.0    43       7       50   \n173             Rafael Nadal           L      185.0    40       9       49   \n30            Carlos Alcaraz           R      185.0    57      13       70   \n148             Nick Kyrgios           R      193.0    40      12       52   \n94             Jannik Sinner           R      188.0    47      17       64   \n..                       ...         ...        ...   ...     ...      ...   \n154           Norbert Gombos           R      193.0     2       9       11   \n203  Tomas Martin Etcheverry           R      196.0     3      14       17   \n81           Henri Laaksonen           R      185.0     3      15       18   \n22              Benoit Paire           R      196.0     4      22       26   \n141        Mikhail Kukushkin           R      183.0     1      10       11   \n\n     win percentage  \n155       86.000000  \n173       81.632653  \n30        81.428571  \n148       76.923077  \n94        73.437500  \n..              ...  \n154       18.181818  \n203       17.647059  \n81        16.666667  \n22        15.384615  \n141        9.090909  \n\n[139 rows x 7 columns]",
      "text/html": "<div>\n<style scoped>\n    .dataframe tbody tr th:only-of-type {\n        vertical-align: middle;\n    }\n\n    .dataframe tbody tr th {\n        vertical-align: top;\n    }\n\n    .dataframe thead th {\n        text-align: right;\n    }\n</style>\n<table border=\"1\" class=\"dataframe\">\n  <thead>\n    <tr style=\"text-align: right;\">\n      <th></th>\n      <th>winner_name</th>\n      <th>winner_hand</th>\n      <th>winner_ht</th>\n      <th>wins</th>\n      <th>losses</th>\n      <th>matches</th>\n      <th>win percentage</th>\n    </tr>\n  </thead>\n  <tbody>\n    <tr>\n      <th>155</th>\n      <td>Novak Djokovic</td>\n      <td>R</td>\n      <td>188.0</td>\n      <td>43</td>\n      <td>7</td>\n      <td>50</td>\n      <td>86.000000</td>\n    </tr>\n    <tr>\n      <th>173</th>\n      <td>Rafael Nadal</td>\n      <td>L</td>\n      <td>185.0</td>\n      <td>40</td>\n      <td>9</td>\n      <td>49</td>\n      <td>81.632653</td>\n    </tr>\n    <tr>\n      <th>30</th>\n      <td>Carlos Alcaraz</td>\n      <td>R</td>\n      <td>185.0</td>\n      <td>57</td>\n      <td>13</td>\n      <td>70</td>\n      <td>81.428571</td>\n    </tr>\n    <tr>\n      <th>148</th>\n      <td>Nick Kyrgios</td>\n      <td>R</td>\n      <td>193.0</td>\n      <td>40</td>\n      <td>12</td>\n      <td>52</td>\n      <td>76.923077</td>\n    </tr>\n    <tr>\n      <th>94</th>\n      <td>Jannik Sinner</td>\n      <td>R</td>\n      <td>188.0</td>\n      <td>47</td>\n      <td>17</td>\n      <td>64</td>\n      <td>73.437500</td>\n    </tr>\n    <tr>\n      <th>...</th>\n      <td>...</td>\n      <td>...</td>\n      <td>...</td>\n      <td>...</td>\n      <td>...</td>\n      <td>...</td>\n      <td>...</td>\n    </tr>\n    <tr>\n      <th>154</th>\n      <td>Norbert Gombos</td>\n      <td>R</td>\n      <td>193.0</td>\n      <td>2</td>\n      <td>9</td>\n      <td>11</td>\n      <td>18.181818</td>\n    </tr>\n    <tr>\n      <th>203</th>\n      <td>Tomas Martin Etcheverry</td>\n      <td>R</td>\n      <td>196.0</td>\n      <td>3</td>\n      <td>14</td>\n      <td>17</td>\n      <td>17.647059</td>\n    </tr>\n    <tr>\n      <th>81</th>\n      <td>Henri Laaksonen</td>\n      <td>R</td>\n      <td>185.0</td>\n      <td>3</td>\n      <td>15</td>\n      <td>18</td>\n      <td>16.666667</td>\n    </tr>\n    <tr>\n      <th>22</th>\n      <td>Benoit Paire</td>\n      <td>R</td>\n      <td>196.0</td>\n      <td>4</td>\n      <td>22</td>\n      <td>26</td>\n      <td>15.384615</td>\n    </tr>\n    <tr>\n      <th>141</th>\n      <td>Mikhail Kukushkin</td>\n      <td>R</td>\n      <td>183.0</td>\n      <td>1</td>\n      <td>10</td>\n      <td>11</td>\n      <td>9.090909</td>\n    </tr>\n  </tbody>\n</table>\n<p>139 rows × 7 columns</p>\n</div>"
     },
     "execution_count": 36,
     "metadata": {},
     "output_type": "execute_result"
    }
   ],
   "source": [
    "player_data['matches'] = player_data['wins'] + player_data['losses']\n",
    "player_data['win percentage'] = 100 * player_data['wins'] / player_data['matches']\n",
    "player_data = player_data[player_data['matches'] >= 10]\n",
    "player_data.sort_values('win percentage', ascending=False)"
   ],
   "metadata": {
    "collapsed": false,
    "pycharm": {
     "name": "#%%\n"
    }
   }
  },
  {
   "cell_type": "code",
   "execution_count": 37,
   "outputs": [
    {
     "data": {
      "text/plain": "<Figure size 432x288 with 1 Axes>",
      "image/png": "[encoded data removed]"
     },
     "metadata": {
      "needs_background": "light"
     },
     "output_type": "display_data"
    }
   ],
   "source": [
    "plt.scatter(player_data['winner_ht'], player_data['win percentage'])\n",
    "plt.show()"
   ],
   "metadata": {
    "collapsed": false,
    "pycharm": {
     "name": "#%%\n"
    }
   }
  },
  {
   "cell_type": "code",
   "execution_count": 38,
   "outputs": [
    {
     "data": {
      "text/plain": "              winner_ht       wins     losses    matches  win percentage\nwinner_hand                                                             \nL            184.571429  17.190476  16.523810  33.714286       47.067252\nR            187.211864  19.872881  17.542373  37.415254       48.016024",
      "text/html": "<div>\n<style scoped>\n    .dataframe tbody tr th:only-of-type {\n        vertical-align: middle;\n    }\n\n    .dataframe tbody tr th {\n        vertical-align: top;\n    }\n\n    .dataframe thead th {\n        text-align: right;\n    }\n</style>\n<table border=\"1\" class=\"dataframe\">\n  <thead>\n    <tr style=\"text-align: right;\">\n      <th></th>\n      <th>winner_ht</th>\n      <th>wins</th>\n      <th>losses</th>\n      <th>matches</th>\n      <th>win percentage</th>\n    </tr>\n    <tr>\n      <th>winner_hand</th>\n      <th></th>\n      <th></th>\n      <th></th>\n      <th></th>\n      <th></th>\n    </tr>\n  </thead>\n  <tbody>\n    <tr>\n      <th>L</th>\n      <td>184.571429</td>\n      <td>17.190476</td>\n      <td>16.523810</td>\n      <td>33.714286</td>\n      <td>47.067252</td>\n    </tr>\n    <tr>\n      <th>R</th>\n      <td>187.211864</td>\n      <td>19.872881</td>\n      <td>17.542373</td>\n      <td>37.415254</td>\n      <td>48.016024</td>\n    </tr>\n  </tbody>\n</table>\n</div>"
     },
     "execution_count": 38,
     "metadata": {},
     "output_type": "execute_result"
    }
   ],
   "source": [
    "player_data.groupby(['winner_hand']).mean()"
   ],
   "metadata": {
    "collapsed": false,
    "pycharm": {
     "name": "#%%\n"
    }
   }
  },
  {
   "cell_type": "code",
   "execution_count": 41,
   "outputs": [
    {
     "data": {
      "text/plain": "<Figure size 432x288 with 1 Axes>",
      "image/png": "[encoded data removed]"
     },
     "metadata": {
      "needs_background": "light"
     },
     "output_type": "display_data"
    }
   ],
   "source": [
    "lefties = player_data[player_data['winner_hand'] == 'R']\n",
    "plt.hist(lefties['win percentage'])\n",
    "plt.show()"
   ],
   "metadata": {
    "collapsed": false,
    "pycharm": {
     "name": "#%%\n"
    }
   }
  },
  {
   "cell_type": "code",
   "execution_count": null,
   "outputs": [],
   "source": [],
   "metadata": {
    "collapsed": false,
    "pycharm": {
     "name": "#%%\n"
    }
   }
  }
 ],
 "metadata": {
  "kernelspec": {
   "display_name": "Python 3",
   "language": "python",
   "name": "python3"
  },
  "language_info": {
   "codemirror_mode": {
    "name": "ipython",
    "version": 2
   },
   "file_extension": ".py",
   "mimetype": "text/x-python",
   "name": "python",
   "nbconvert_exporter": "python",
   "pygments_lexer": "ipython2",
   "version": "2.7.6"
  }
 },
 "nbformat": 4,
 "nbformat_minor": 0
}
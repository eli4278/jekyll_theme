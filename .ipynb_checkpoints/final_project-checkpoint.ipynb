{
 "cells": [
  {
   "cell_type": "markdown",
   "metadata": {
    "collapsed": true,
    "pycharm": {
     "name": "#%% md\n"
    }
   },
   "source": [
    "# CMSC 320 Final Project:\n",
    "# Is Height an Advantage in Professional Tennis?\n",
    "## Eric Li, Fall 2022"
   ]
  },
  {
   "cell_type": "markdown",
   "metadata": {},
   "source": [
    "# Introduction\n",
    "\n",
    "In this project, I analyzed data from the ATP (Association of Tennis Professionals) Tour this year in order to find out if physical attributes such as height and dominant hand have a significant effect on a player's performance. Height is often considered to be a major advantage in tennis, as taller players are typically able to generate more speed on their serves than shorter players. Being left-handed is also considered to be an advantage as a players are usually able to generate more heavy topspin on using their forehand rather than their backhand, and left-handed players take advantage of this by hitting cross-court to a right-handed player's backhand in order to control points. This is an effective strategy because most right-handed players are use to playing against other right-handed players, so playing against a left-handed player can be more difficult for them.\n",
    "\n",
    "In order to test these theories, I will analyze data from the most recent 2022 Tour using a variety of methods, including linear regression and hypothesis testing."
   ]
  },
  {
   "cell_type": "markdown",
   "metadata": {},
   "source": [
    "# Part 1: Data Collection\n",
    "\n",
    "I obtained my dataset from a GitHub repository of ATP match data dating back to 1968. The dataset that I used includes every ATP level match from 2022, including information about the height, dominant hand, score, date, and ranking of the winner and loser from each match.\n",
    "\n",
    "The dataset can be found here: https://github.com/JeffSackmann/tennis_atp/blob/master/atp_matches_2022.csv"
   ]
  },
  {
   "cell_type": "markdown",
   "metadata": {},
   "source": [
    "Load the required packages."
   ]
  },
  {
   "cell_type": "code",
   "execution_count": 23,
   "metadata": {
    "pycharm": {
     "name": "#%%\n"
    }
   },
   "outputs": [],
   "source": [
    "import pandas as pd\n",
    "import numpy as np\n",
    "import matplotlib.pyplot as plt"
   ]
  },
  {
   "cell_type": "markdown",
   "metadata": {},
   "source": [
    "Read in the CSV file."
   ]
  },
  {
   "cell_type": "code",
   "execution_count": 45,
   "metadata": {
    "pycharm": {
     "name": "#%%\n"
    }
   },
   "outputs": [
    {
     "data": {
      "text/html": [
       "<div>\n",
       "<style scoped>\n",
       "    .dataframe tbody tr th:only-of-type {\n",
       "        vertical-align: middle;\n",
       "    }\n",
       "\n",
       "    .dataframe tbody tr th {\n",
       "        vertical-align: top;\n",
       "    }\n",
       "\n",
       "    .dataframe thead th {\n",
       "        text-align: right;\n",
       "    }\n",
       "</style>\n",
       "<table border=\"1\" class=\"dataframe\">\n",
       "  <thead>\n",
       "    <tr style=\"text-align: right;\">\n",
       "      <th></th>\n",
       "      <th>tourney_id</th>\n",
       "      <th>tourney_name</th>\n",
       "      <th>surface</th>\n",
       "      <th>draw_size</th>\n",
       "      <th>tourney_level</th>\n",
       "      <th>tourney_date</th>\n",
       "      <th>match_num</th>\n",
       "      <th>winner_id</th>\n",
       "      <th>winner_seed</th>\n",
       "      <th>winner_entry</th>\n",
       "      <th>...</th>\n",
       "      <th>l_1stIn</th>\n",
       "      <th>l_1stWon</th>\n",
       "      <th>l_2ndWon</th>\n",
       "      <th>l_SvGms</th>\n",
       "      <th>l_bpSaved</th>\n",
       "      <th>l_bpFaced</th>\n",
       "      <th>winner_rank</th>\n",
       "      <th>winner_rank_points</th>\n",
       "      <th>loser_rank</th>\n",
       "      <th>loser_rank_points</th>\n",
       "    </tr>\n",
       "  </thead>\n",
       "  <tbody>\n",
       "    <tr>\n",
       "      <th>0</th>\n",
       "      <td>2022-8888</td>\n",
       "      <td>Atp Cup</td>\n",
       "      <td>Hard</td>\n",
       "      <td>16</td>\n",
       "      <td>A</td>\n",
       "      <td>20220103</td>\n",
       "      <td>300</td>\n",
       "      <td>200000</td>\n",
       "      <td>NaN</td>\n",
       "      <td>NaN</td>\n",
       "      <td>...</td>\n",
       "      <td>50.0</td>\n",
       "      <td>32.0</td>\n",
       "      <td>7.0</td>\n",
       "      <td>10.0</td>\n",
       "      <td>3.0</td>\n",
       "      <td>5.0</td>\n",
       "      <td>11.0</td>\n",
       "      <td>3308.0</td>\n",
       "      <td>19.0</td>\n",
       "      <td>2260.0</td>\n",
       "    </tr>\n",
       "    <tr>\n",
       "      <th>1</th>\n",
       "      <td>2022-8888</td>\n",
       "      <td>Atp Cup</td>\n",
       "      <td>Hard</td>\n",
       "      <td>16</td>\n",
       "      <td>A</td>\n",
       "      <td>20220103</td>\n",
       "      <td>299</td>\n",
       "      <td>133430</td>\n",
       "      <td>NaN</td>\n",
       "      <td>NaN</td>\n",
       "      <td>...</td>\n",
       "      <td>33.0</td>\n",
       "      <td>21.0</td>\n",
       "      <td>8.0</td>\n",
       "      <td>9.0</td>\n",
       "      <td>3.0</td>\n",
       "      <td>6.0</td>\n",
       "      <td>14.0</td>\n",
       "      <td>2475.0</td>\n",
       "      <td>20.0</td>\n",
       "      <td>2230.0</td>\n",
       "    </tr>\n",
       "    <tr>\n",
       "      <th>2</th>\n",
       "      <td>2022-8888</td>\n",
       "      <td>Atp Cup</td>\n",
       "      <td>Hard</td>\n",
       "      <td>16</td>\n",
       "      <td>A</td>\n",
       "      <td>20220103</td>\n",
       "      <td>298</td>\n",
       "      <td>105138</td>\n",
       "      <td>NaN</td>\n",
       "      <td>NaN</td>\n",
       "      <td>...</td>\n",
       "      <td>80.0</td>\n",
       "      <td>62.0</td>\n",
       "      <td>20.0</td>\n",
       "      <td>16.0</td>\n",
       "      <td>6.0</td>\n",
       "      <td>7.0</td>\n",
       "      <td>19.0</td>\n",
       "      <td>2260.0</td>\n",
       "      <td>9.0</td>\n",
       "      <td>3706.0</td>\n",
       "    </tr>\n",
       "    <tr>\n",
       "      <th>3</th>\n",
       "      <td>2022-8888</td>\n",
       "      <td>Atp Cup</td>\n",
       "      <td>Hard</td>\n",
       "      <td>16</td>\n",
       "      <td>A</td>\n",
       "      <td>20220103</td>\n",
       "      <td>297</td>\n",
       "      <td>105807</td>\n",
       "      <td>NaN</td>\n",
       "      <td>NaN</td>\n",
       "      <td>...</td>\n",
       "      <td>27.0</td>\n",
       "      <td>17.0</td>\n",
       "      <td>1.0</td>\n",
       "      <td>7.0</td>\n",
       "      <td>4.0</td>\n",
       "      <td>8.0</td>\n",
       "      <td>20.0</td>\n",
       "      <td>2230.0</td>\n",
       "      <td>860.0</td>\n",
       "      <td>18.0</td>\n",
       "    </tr>\n",
       "    <tr>\n",
       "      <th>4</th>\n",
       "      <td>2022-8888</td>\n",
       "      <td>Atp Cup</td>\n",
       "      <td>Hard</td>\n",
       "      <td>16</td>\n",
       "      <td>A</td>\n",
       "      <td>20220103</td>\n",
       "      <td>296</td>\n",
       "      <td>106421</td>\n",
       "      <td>NaN</td>\n",
       "      <td>NaN</td>\n",
       "      <td>...</td>\n",
       "      <td>35.0</td>\n",
       "      <td>22.0</td>\n",
       "      <td>4.0</td>\n",
       "      <td>8.0</td>\n",
       "      <td>3.0</td>\n",
       "      <td>7.0</td>\n",
       "      <td>2.0</td>\n",
       "      <td>8640.0</td>\n",
       "      <td>11.0</td>\n",
       "      <td>3308.0</td>\n",
       "    </tr>\n",
       "    <tr>\n",
       "      <th>...</th>\n",
       "      <td>...</td>\n",
       "      <td>...</td>\n",
       "      <td>...</td>\n",
       "      <td>...</td>\n",
       "      <td>...</td>\n",
       "      <td>...</td>\n",
       "      <td>...</td>\n",
       "      <td>...</td>\n",
       "      <td>...</td>\n",
       "      <td>...</td>\n",
       "      <td>...</td>\n",
       "      <td>...</td>\n",
       "      <td>...</td>\n",
       "      <td>...</td>\n",
       "      <td>...</td>\n",
       "      <td>...</td>\n",
       "      <td>...</td>\n",
       "      <td>...</td>\n",
       "      <td>...</td>\n",
       "      <td>...</td>\n",
       "      <td>...</td>\n",
       "    </tr>\n",
       "    <tr>\n",
       "      <th>2911</th>\n",
       "      <td>2022-M-DC-2022-WG2-PO-GRE-JAM-01</td>\n",
       "      <td>Davis Cup WG2 PO: GRE vs JAM</td>\n",
       "      <td>Clay</td>\n",
       "      <td>4</td>\n",
       "      <td>D</td>\n",
       "      <td>20220304</td>\n",
       "      <td>4</td>\n",
       "      <td>209362</td>\n",
       "      <td>NaN</td>\n",
       "      <td>NaN</td>\n",
       "      <td>...</td>\n",
       "      <td>68.0</td>\n",
       "      <td>42.0</td>\n",
       "      <td>12.0</td>\n",
       "      <td>10.0</td>\n",
       "      <td>11.0</td>\n",
       "      <td>13.0</td>\n",
       "      <td>1103.0</td>\n",
       "      <td>9.0</td>\n",
       "      <td>1130.0</td>\n",
       "      <td>8.0</td>\n",
       "    </tr>\n",
       "    <tr>\n",
       "      <th>2912</th>\n",
       "      <td>2022-M-DC-2022-WG2-PO-GRE-JAM-01</td>\n",
       "      <td>Davis Cup WG2 PO: GRE vs JAM</td>\n",
       "      <td>Clay</td>\n",
       "      <td>4</td>\n",
       "      <td>D</td>\n",
       "      <td>20220304</td>\n",
       "      <td>5</td>\n",
       "      <td>202065</td>\n",
       "      <td>NaN</td>\n",
       "      <td>NaN</td>\n",
       "      <td>...</td>\n",
       "      <td>56.0</td>\n",
       "      <td>40.0</td>\n",
       "      <td>20.0</td>\n",
       "      <td>15.0</td>\n",
       "      <td>4.0</td>\n",
       "      <td>8.0</td>\n",
       "      <td>808.0</td>\n",
       "      <td>23.0</td>\n",
       "      <td>1390.0</td>\n",
       "      <td>4.0</td>\n",
       "    </tr>\n",
       "    <tr>\n",
       "      <th>2913</th>\n",
       "      <td>2022-M-DC-2022-WG2-PO-HKG-BEN-01</td>\n",
       "      <td>Davis Cup WG2 PO: HKG vs BEN</td>\n",
       "      <td>Hard</td>\n",
       "      <td>4</td>\n",
       "      <td>D</td>\n",
       "      <td>20220304</td>\n",
       "      <td>1</td>\n",
       "      <td>138846</td>\n",
       "      <td>NaN</td>\n",
       "      <td>NaN</td>\n",
       "      <td>...</td>\n",
       "      <td>54.0</td>\n",
       "      <td>29.0</td>\n",
       "      <td>8.0</td>\n",
       "      <td>11.0</td>\n",
       "      <td>6.0</td>\n",
       "      <td>10.0</td>\n",
       "      <td>1059.0</td>\n",
       "      <td>10.0</td>\n",
       "      <td>1881.0</td>\n",
       "      <td>1.0</td>\n",
       "    </tr>\n",
       "    <tr>\n",
       "      <th>2914</th>\n",
       "      <td>2022-M-DC-2022-WG2-PO-HKG-BEN-01</td>\n",
       "      <td>Davis Cup WG2 PO: HKG vs BEN</td>\n",
       "      <td>Hard</td>\n",
       "      <td>4</td>\n",
       "      <td>D</td>\n",
       "      <td>20220304</td>\n",
       "      <td>2</td>\n",
       "      <td>209409</td>\n",
       "      <td>NaN</td>\n",
       "      <td>NaN</td>\n",
       "      <td>...</td>\n",
       "      <td>39.0</td>\n",
       "      <td>24.0</td>\n",
       "      <td>7.0</td>\n",
       "      <td>10.0</td>\n",
       "      <td>5.0</td>\n",
       "      <td>9.0</td>\n",
       "      <td>NaN</td>\n",
       "      <td>NaN</td>\n",
       "      <td>NaN</td>\n",
       "      <td>NaN</td>\n",
       "    </tr>\n",
       "    <tr>\n",
       "      <th>2915</th>\n",
       "      <td>2022-M-DC-2022-WG2-PO-HKG-BEN-01</td>\n",
       "      <td>Davis Cup WG2 PO: HKG vs BEN</td>\n",
       "      <td>Hard</td>\n",
       "      <td>4</td>\n",
       "      <td>D</td>\n",
       "      <td>20220304</td>\n",
       "      <td>4</td>\n",
       "      <td>208414</td>\n",
       "      <td>NaN</td>\n",
       "      <td>NaN</td>\n",
       "      <td>...</td>\n",
       "      <td>34.0</td>\n",
       "      <td>24.0</td>\n",
       "      <td>13.0</td>\n",
       "      <td>10.0</td>\n",
       "      <td>5.0</td>\n",
       "      <td>8.0</td>\n",
       "      <td>NaN</td>\n",
       "      <td>NaN</td>\n",
       "      <td>NaN</td>\n",
       "      <td>NaN</td>\n",
       "    </tr>\n",
       "  </tbody>\n",
       "</table>\n",
       "<p>2916 rows × 49 columns</p>\n",
       "</div>"
      ],
      "text/plain": [
       "                            tourney_id                  tourney_name surface  \\\n",
       "0                            2022-8888                       Atp Cup    Hard   \n",
       "1                            2022-8888                       Atp Cup    Hard   \n",
       "2                            2022-8888                       Atp Cup    Hard   \n",
       "3                            2022-8888                       Atp Cup    Hard   \n",
       "4                            2022-8888                       Atp Cup    Hard   \n",
       "...                                ...                           ...     ...   \n",
       "2911  2022-M-DC-2022-WG2-PO-GRE-JAM-01  Davis Cup WG2 PO: GRE vs JAM    Clay   \n",
       "2912  2022-M-DC-2022-WG2-PO-GRE-JAM-01  Davis Cup WG2 PO: GRE vs JAM    Clay   \n",
       "2913  2022-M-DC-2022-WG2-PO-HKG-BEN-01  Davis Cup WG2 PO: HKG vs BEN    Hard   \n",
       "2914  2022-M-DC-2022-WG2-PO-HKG-BEN-01  Davis Cup WG2 PO: HKG vs BEN    Hard   \n",
       "2915  2022-M-DC-2022-WG2-PO-HKG-BEN-01  Davis Cup WG2 PO: HKG vs BEN    Hard   \n",
       "\n",
       "      draw_size tourney_level  tourney_date  match_num  winner_id winner_seed  \\\n",
       "0            16             A      20220103        300     200000         NaN   \n",
       "1            16             A      20220103        299     133430         NaN   \n",
       "2            16             A      20220103        298     105138         NaN   \n",
       "3            16             A      20220103        297     105807         NaN   \n",
       "4            16             A      20220103        296     106421         NaN   \n",
       "...         ...           ...           ...        ...        ...         ...   \n",
       "2911          4             D      20220304          4     209362         NaN   \n",
       "2912          4             D      20220304          5     202065         NaN   \n",
       "2913          4             D      20220304          1     138846         NaN   \n",
       "2914          4             D      20220304          2     209409         NaN   \n",
       "2915          4             D      20220304          4     208414         NaN   \n",
       "\n",
       "     winner_entry  ... l_1stIn l_1stWon  l_2ndWon l_SvGms  l_bpSaved  \\\n",
       "0             NaN  ...    50.0     32.0       7.0    10.0        3.0   \n",
       "1             NaN  ...    33.0     21.0       8.0     9.0        3.0   \n",
       "2             NaN  ...    80.0     62.0      20.0    16.0        6.0   \n",
       "3             NaN  ...    27.0     17.0       1.0     7.0        4.0   \n",
       "4             NaN  ...    35.0     22.0       4.0     8.0        3.0   \n",
       "...           ...  ...     ...      ...       ...     ...        ...   \n",
       "2911          NaN  ...    68.0     42.0      12.0    10.0       11.0   \n",
       "2912          NaN  ...    56.0     40.0      20.0    15.0        4.0   \n",
       "2913          NaN  ...    54.0     29.0       8.0    11.0        6.0   \n",
       "2914          NaN  ...    39.0     24.0       7.0    10.0        5.0   \n",
       "2915          NaN  ...    34.0     24.0      13.0    10.0        5.0   \n",
       "\n",
       "      l_bpFaced winner_rank winner_rank_points loser_rank loser_rank_points  \n",
       "0           5.0        11.0             3308.0       19.0            2260.0  \n",
       "1           6.0        14.0             2475.0       20.0            2230.0  \n",
       "2           7.0        19.0             2260.0        9.0            3706.0  \n",
       "3           8.0        20.0             2230.0      860.0              18.0  \n",
       "4           7.0         2.0             8640.0       11.0            3308.0  \n",
       "...         ...         ...                ...        ...               ...  \n",
       "2911       13.0      1103.0                9.0     1130.0               8.0  \n",
       "2912        8.0       808.0               23.0     1390.0               4.0  \n",
       "2913       10.0      1059.0               10.0     1881.0               1.0  \n",
       "2914        9.0         NaN                NaN        NaN               NaN  \n",
       "2915        8.0         NaN                NaN        NaN               NaN  \n",
       "\n",
       "[2916 rows x 49 columns]"
      ]
     },
     "execution_count": 45,
     "metadata": {},
     "output_type": "execute_result"
    }
   ],
   "source": [
    "atp_matches_22 = pd.read_csv('/Users/ericli/Downloads/tennis_atp-master/atp_matches_2022.csv')\n",
    "atp_matches_22"
   ]
  },
  {
   "cell_type": "markdown",
   "metadata": {},
   "source": [
    "The dataset contains information about all 2916 ATP matches from 2022."
   ]
  },
  {
   "cell_type": "markdown",
   "metadata": {},
   "source": [
    "# Part 2: Data Pre-Processing\n",
    "\n",
    "In this part, I will create a new dataframe with information about each player's win percentage this year, along with their height and dominant hand."
   ]
  },
  {
   "cell_type": "markdown",
   "metadata": {},
   "source": [
    "Create a new dataframe by counting the number of instances of each unique name in the \"winner_name\" column, then reset the indexes and rename the count column to \"wins\", as this value represents the number of matches each player won this year.\n",
    "\n",
    "Note: This is possible to do because we are assuming that a player's height and dominant hand stays constant throughout the entire year. In this case, we are also only looking at players that have won at least one match."
   ]
  },
  {
   "cell_type": "code",
   "execution_count": 52,
   "metadata": {
    "pycharm": {
     "name": "#%%\n"
    }
   },
   "outputs": [
    {
     "data": {
      "text/html": [
       "<div>\n",
       "<style scoped>\n",
       "    .dataframe tbody tr th:only-of-type {\n",
       "        vertical-align: middle;\n",
       "    }\n",
       "\n",
       "    .dataframe tbody tr th {\n",
       "        vertical-align: top;\n",
       "    }\n",
       "\n",
       "    .dataframe thead th {\n",
       "        text-align: right;\n",
       "    }\n",
       "</style>\n",
       "<table border=\"1\" class=\"dataframe\">\n",
       "  <thead>\n",
       "    <tr style=\"text-align: right;\">\n",
       "      <th></th>\n",
       "      <th>winner_name</th>\n",
       "      <th>winner_hand</th>\n",
       "      <th>winner_ht</th>\n",
       "      <th>wins</th>\n",
       "    </tr>\n",
       "  </thead>\n",
       "  <tbody>\n",
       "    <tr>\n",
       "      <th>0</th>\n",
       "      <td>Adrian Mannarino</td>\n",
       "      <td>L</td>\n",
       "      <td>183.0</td>\n",
       "      <td>28</td>\n",
       "    </tr>\n",
       "    <tr>\n",
       "      <th>1</th>\n",
       "      <td>Aisam Ul Haq Qureshi</td>\n",
       "      <td>R</td>\n",
       "      <td>183.0</td>\n",
       "      <td>1</td>\n",
       "    </tr>\n",
       "    <tr>\n",
       "      <th>2</th>\n",
       "      <td>Albert Ramos</td>\n",
       "      <td>L</td>\n",
       "      <td>188.0</td>\n",
       "      <td>25</td>\n",
       "    </tr>\n",
       "    <tr>\n",
       "      <th>3</th>\n",
       "      <td>Alejandro Davidovich Fokina</td>\n",
       "      <td>R</td>\n",
       "      <td>183.0</td>\n",
       "      <td>21</td>\n",
       "    </tr>\n",
       "    <tr>\n",
       "      <th>4</th>\n",
       "      <td>Alejandro Tabilo</td>\n",
       "      <td>L</td>\n",
       "      <td>188.0</td>\n",
       "      <td>17</td>\n",
       "    </tr>\n",
       "  </tbody>\n",
       "</table>\n",
       "</div>"
      ],
      "text/plain": [
       "                   winner_name winner_hand  winner_ht  wins\n",
       "0             Adrian Mannarino           L      183.0    28\n",
       "1         Aisam Ul Haq Qureshi           R      183.0     1\n",
       "2                 Albert Ramos           L      188.0    25\n",
       "3  Alejandro Davidovich Fokina           R      183.0    21\n",
       "4             Alejandro Tabilo           L      188.0    17"
      ]
     },
     "execution_count": 52,
     "metadata": {},
     "output_type": "execute_result"
    }
   ],
   "source": [
    "player_data = atp_matches_22.groupby(['winner_name','winner_hand','winner_ht']).size().reset_index().rename(columns={0:'wins'})\n",
    "player_data.head()"
   ]
  },
  {
   "cell_type": "markdown",
   "metadata": {},
   "source": [
    "Now let's add a column for the number of matches each player has lost by iterating through each player and counting the number of times that their name appears in the \"loser_name\" column. We can then calculate the number of matches each player has played this year by adding their wins and losses. We can also calculate their win percentage for the year."
   ]
  },
  {
   "cell_type": "code",
   "execution_count": 53,
   "metadata": {
    "pycharm": {
     "name": "#%%\n"
    }
   },
   "outputs": [
    {
     "data": {
      "text/html": [
       "<div>\n",
       "<style scoped>\n",
       "    .dataframe tbody tr th:only-of-type {\n",
       "        vertical-align: middle;\n",
       "    }\n",
       "\n",
       "    .dataframe tbody tr th {\n",
       "        vertical-align: top;\n",
       "    }\n",
       "\n",
       "    .dataframe thead th {\n",
       "        text-align: right;\n",
       "    }\n",
       "</style>\n",
       "<table border=\"1\" class=\"dataframe\">\n",
       "  <thead>\n",
       "    <tr style=\"text-align: right;\">\n",
       "      <th></th>\n",
       "      <th>winner_name</th>\n",
       "      <th>winner_hand</th>\n",
       "      <th>winner_ht</th>\n",
       "      <th>wins</th>\n",
       "      <th>losses</th>\n",
       "      <th>matches</th>\n",
       "      <th>win percentage</th>\n",
       "    </tr>\n",
       "  </thead>\n",
       "  <tbody>\n",
       "    <tr>\n",
       "      <th>0</th>\n",
       "      <td>Adrian Mannarino</td>\n",
       "      <td>L</td>\n",
       "      <td>183.0</td>\n",
       "      <td>28</td>\n",
       "      <td>26</td>\n",
       "      <td>54</td>\n",
       "      <td>51.851852</td>\n",
       "    </tr>\n",
       "    <tr>\n",
       "      <th>1</th>\n",
       "      <td>Aisam Ul Haq Qureshi</td>\n",
       "      <td>R</td>\n",
       "      <td>183.0</td>\n",
       "      <td>1</td>\n",
       "      <td>0</td>\n",
       "      <td>1</td>\n",
       "      <td>100.000000</td>\n",
       "    </tr>\n",
       "    <tr>\n",
       "      <th>2</th>\n",
       "      <td>Albert Ramos</td>\n",
       "      <td>L</td>\n",
       "      <td>188.0</td>\n",
       "      <td>25</td>\n",
       "      <td>27</td>\n",
       "      <td>52</td>\n",
       "      <td>48.076923</td>\n",
       "    </tr>\n",
       "    <tr>\n",
       "      <th>3</th>\n",
       "      <td>Alejandro Davidovich Fokina</td>\n",
       "      <td>R</td>\n",
       "      <td>183.0</td>\n",
       "      <td>21</td>\n",
       "      <td>26</td>\n",
       "      <td>47</td>\n",
       "      <td>44.680851</td>\n",
       "    </tr>\n",
       "    <tr>\n",
       "      <th>4</th>\n",
       "      <td>Alejandro Tabilo</td>\n",
       "      <td>L</td>\n",
       "      <td>188.0</td>\n",
       "      <td>17</td>\n",
       "      <td>16</td>\n",
       "      <td>33</td>\n",
       "      <td>51.515152</td>\n",
       "    </tr>\n",
       "  </tbody>\n",
       "</table>\n",
       "</div>"
      ],
      "text/plain": [
       "                   winner_name winner_hand  winner_ht  wins  losses  matches  \\\n",
       "0             Adrian Mannarino           L      183.0    28      26       54   \n",
       "1         Aisam Ul Haq Qureshi           R      183.0     1       0        1   \n",
       "2                 Albert Ramos           L      188.0    25      27       52   \n",
       "3  Alejandro Davidovich Fokina           R      183.0    21      26       47   \n",
       "4             Alejandro Tabilo           L      188.0    17      16       33   \n",
       "\n",
       "   win percentage  \n",
       "0       51.851852  \n",
       "1      100.000000  \n",
       "2       48.076923  \n",
       "3       44.680851  \n",
       "4       51.515152  "
      ]
     },
     "execution_count": 53,
     "metadata": {},
     "output_type": "execute_result"
    }
   ],
   "source": [
    "losses = []\n",
    "\n",
    "for player in player_data['winner_name']:\n",
    "    sub_df = atp_matches_22[atp_matches_22['loser_name'] == player]\n",
    "    losses.append(sub_df.shape[0])\n",
    "\n",
    "player_data['losses'] = losses\n",
    "player_data['matches'] = player_data['wins'] + player_data['losses']\n",
    "player_data['win percentage'] = 100 * player_data['wins'] / player_data['matches']\n",
    "player_data.head()"
   ]
  },
  {
   "cell_type": "markdown",
   "metadata": {},
   "source": [
    "Since we will be comparing players' win percentages later on, we want to look at players who have played at least a certain number of matches, as players that have played few matches can skew the average win percentage (i.e. a player who has only played one match and won that match will have a 100% win rate). Thus, let us only look at the players who have played at least ten matches this year. It may also be informative to sort them by their win rate in descending order."
   ]
  },
  {
   "cell_type": "code",
   "execution_count": 54,
   "metadata": {
    "pycharm": {
     "name": "#%%\n"
    }
   },
   "outputs": [
    {
     "data": {
      "text/html": [
       "<div>\n",
       "<style scoped>\n",
       "    .dataframe tbody tr th:only-of-type {\n",
       "        vertical-align: middle;\n",
       "    }\n",
       "\n",
       "    .dataframe tbody tr th {\n",
       "        vertical-align: top;\n",
       "    }\n",
       "\n",
       "    .dataframe thead th {\n",
       "        text-align: right;\n",
       "    }\n",
       "</style>\n",
       "<table border=\"1\" class=\"dataframe\">\n",
       "  <thead>\n",
       "    <tr style=\"text-align: right;\">\n",
       "      <th></th>\n",
       "      <th>winner_name</th>\n",
       "      <th>winner_hand</th>\n",
       "      <th>winner_ht</th>\n",
       "      <th>wins</th>\n",
       "      <th>losses</th>\n",
       "      <th>matches</th>\n",
       "      <th>win percentage</th>\n",
       "    </tr>\n",
       "  </thead>\n",
       "  <tbody>\n",
       "    <tr>\n",
       "      <th>155</th>\n",
       "      <td>Novak Djokovic</td>\n",
       "      <td>R</td>\n",
       "      <td>188.0</td>\n",
       "      <td>43</td>\n",
       "      <td>7</td>\n",
       "      <td>50</td>\n",
       "      <td>86.000000</td>\n",
       "    </tr>\n",
       "    <tr>\n",
       "      <th>173</th>\n",
       "      <td>Rafael Nadal</td>\n",
       "      <td>L</td>\n",
       "      <td>185.0</td>\n",
       "      <td>40</td>\n",
       "      <td>9</td>\n",
       "      <td>49</td>\n",
       "      <td>81.632653</td>\n",
       "    </tr>\n",
       "    <tr>\n",
       "      <th>30</th>\n",
       "      <td>Carlos Alcaraz</td>\n",
       "      <td>R</td>\n",
       "      <td>185.0</td>\n",
       "      <td>57</td>\n",
       "      <td>13</td>\n",
       "      <td>70</td>\n",
       "      <td>81.428571</td>\n",
       "    </tr>\n",
       "    <tr>\n",
       "      <th>148</th>\n",
       "      <td>Nick Kyrgios</td>\n",
       "      <td>R</td>\n",
       "      <td>193.0</td>\n",
       "      <td>40</td>\n",
       "      <td>12</td>\n",
       "      <td>52</td>\n",
       "      <td>76.923077</td>\n",
       "    </tr>\n",
       "    <tr>\n",
       "      <th>94</th>\n",
       "      <td>Jannik Sinner</td>\n",
       "      <td>R</td>\n",
       "      <td>188.0</td>\n",
       "      <td>47</td>\n",
       "      <td>17</td>\n",
       "      <td>64</td>\n",
       "      <td>73.437500</td>\n",
       "    </tr>\n",
       "    <tr>\n",
       "      <th>...</th>\n",
       "      <td>...</td>\n",
       "      <td>...</td>\n",
       "      <td>...</td>\n",
       "      <td>...</td>\n",
       "      <td>...</td>\n",
       "      <td>...</td>\n",
       "      <td>...</td>\n",
       "    </tr>\n",
       "    <tr>\n",
       "      <th>154</th>\n",
       "      <td>Norbert Gombos</td>\n",
       "      <td>R</td>\n",
       "      <td>193.0</td>\n",
       "      <td>2</td>\n",
       "      <td>9</td>\n",
       "      <td>11</td>\n",
       "      <td>18.181818</td>\n",
       "    </tr>\n",
       "    <tr>\n",
       "      <th>203</th>\n",
       "      <td>Tomas Martin Etcheverry</td>\n",
       "      <td>R</td>\n",
       "      <td>196.0</td>\n",
       "      <td>3</td>\n",
       "      <td>14</td>\n",
       "      <td>17</td>\n",
       "      <td>17.647059</td>\n",
       "    </tr>\n",
       "    <tr>\n",
       "      <th>81</th>\n",
       "      <td>Henri Laaksonen</td>\n",
       "      <td>R</td>\n",
       "      <td>185.0</td>\n",
       "      <td>3</td>\n",
       "      <td>15</td>\n",
       "      <td>18</td>\n",
       "      <td>16.666667</td>\n",
       "    </tr>\n",
       "    <tr>\n",
       "      <th>22</th>\n",
       "      <td>Benoit Paire</td>\n",
       "      <td>R</td>\n",
       "      <td>196.0</td>\n",
       "      <td>4</td>\n",
       "      <td>22</td>\n",
       "      <td>26</td>\n",
       "      <td>15.384615</td>\n",
       "    </tr>\n",
       "    <tr>\n",
       "      <th>141</th>\n",
       "      <td>Mikhail Kukushkin</td>\n",
       "      <td>R</td>\n",
       "      <td>183.0</td>\n",
       "      <td>1</td>\n",
       "      <td>10</td>\n",
       "      <td>11</td>\n",
       "      <td>9.090909</td>\n",
       "    </tr>\n",
       "  </tbody>\n",
       "</table>\n",
       "<p>139 rows × 7 columns</p>\n",
       "</div>"
      ],
      "text/plain": [
       "                 winner_name winner_hand  winner_ht  wins  losses  matches  \\\n",
       "155           Novak Djokovic           R      188.0    43       7       50   \n",
       "173             Rafael Nadal           L      185.0    40       9       49   \n",
       "30            Carlos Alcaraz           R      185.0    57      13       70   \n",
       "148             Nick Kyrgios           R      193.0    40      12       52   \n",
       "94             Jannik Sinner           R      188.0    47      17       64   \n",
       "..                       ...         ...        ...   ...     ...      ...   \n",
       "154           Norbert Gombos           R      193.0     2       9       11   \n",
       "203  Tomas Martin Etcheverry           R      196.0     3      14       17   \n",
       "81           Henri Laaksonen           R      185.0     3      15       18   \n",
       "22              Benoit Paire           R      196.0     4      22       26   \n",
       "141        Mikhail Kukushkin           R      183.0     1      10       11   \n",
       "\n",
       "     win percentage  \n",
       "155       86.000000  \n",
       "173       81.632653  \n",
       "30        81.428571  \n",
       "148       76.923077  \n",
       "94        73.437500  \n",
       "..              ...  \n",
       "154       18.181818  \n",
       "203       17.647059  \n",
       "81        16.666667  \n",
       "22        15.384615  \n",
       "141        9.090909  \n",
       "\n",
       "[139 rows x 7 columns]"
      ]
     },
     "execution_count": 54,
     "metadata": {},
     "output_type": "execute_result"
    }
   ],
   "source": [
    "player_data = player_data[player_data['matches'] >= 10]\n",
    "player_data.sort_values('win percentage', ascending=False)"
   ]
  },
  {
   "cell_type": "markdown",
   "metadata": {},
   "source": [
    "As expected, the top players in the tour have the highest win rates. These 139 players will now be the main focus of the analysis.\n",
    "\n",
    "For Current ATP Rankings: https://www.espn.com/tennis/rankings"
   ]
  },
  {
   "cell_type": "markdown",
   "metadata": {},
   "source": [
    "# Part 3: Linear Regression Analysis\n",
    "\n",
    "In this part, I will fit a Linear Regression model onto the data by comparing a player's height and win percentage in order to test the theory of taller players having an advantage in tennis."
   ]
  },
  {
   "cell_type": "markdown",
   "metadata": {},
   "source": [
    "Make a scatter plot of win percentage vs. height:"
   ]
  },
  {
   "cell_type": "code",
   "execution_count": 55,
   "metadata": {
    "pycharm": {
     "name": "#%%\n"
    }
   },
   "outputs": [
    {
     "data": {
      "image/png": "[encoded data removed]",
      "text/plain": [
       "<Figure size 576x576 with 1 Axes>"
      ]
     },
     "metadata": {
      "needs_background": "light"
     },
     "output_type": "display_data"
    }
   ],
   "source": [
    "plt.figure(figsize=(8,8))\n",
    "plt.scatter(player_data['winner_ht'], player_data['win percentage'])\n",
    "plt.title('ATP Tour Win Percentage vs. Height')\n",
    "plt.xlabel('Height (cm)')\n",
    "plt.ylabel('Win Percentage')\n",
    "plt.show()"
   ]
  },
  {
   "cell_type": "markdown",
   "metadata": {},
   "source": [
    "It looks like the data points are somewhat positively correlated. Let's try fitting a least-squares regression line:"
   ]
  },
  {
   "cell_type": "code",
   "execution_count": 57,
   "metadata": {
    "pycharm": {
     "name": "#%%\n"
    }
   },
   "outputs": [
    {
     "data": {
      "image/png": "[encoded data removed]",
      "text/plain": [
       "<Figure size 576x576 with 1 Axes>"
      ]
     },
     "metadata": {
      "needs_background": "light"
     },
     "output_type": "display_data"
    }
   ],
   "source": [
    "plt.figure(figsize=(8,8))\n",
    "plt.scatter(player_data['winner_ht'], player_data['win percentage'])\n",
    "plt.title('ATP Tour Win Percentage vs. Height')\n",
    "plt.xlabel('Height (cm)')\n",
    "plt.ylabel('Win Percentage')\n",
    "# Fitting a regression line\n",
    "z = np.polyfit(player_data['winner_ht'], player_data['win percentage'], 1)\n",
    "p = np.poly1d(z)\n",
    "xp = np.linspace(170, 210, 100)\n",
    "plt.plot(xp, p(xp))\n",
    "plt.show()"
   ]
  },
  {
   "cell_type": "markdown",
   "metadata": {},
   "source": [
    "Let's look at the equation for the line."
   ]
  },
  {
   "cell_type": "code",
   "execution_count": 58,
   "metadata": {
    "pycharm": {
     "name": "#%%\n"
    }
   },
   "outputs": [
    {
     "name": "stdout",
     "output_type": "stream",
     "text": [
      " \n",
      "0.2325 x + 4.438\n"
     ]
    }
   ],
   "source": [
    "print(p)"
   ]
  },
  {
   "cell_type": "markdown",
   "metadata": {},
   "source": [
    "## Win Percentage = 0.2325 * Height + 4.438\n",
    "\n",
    "So far every increase of 1 cm in a player's height, we can expect their win percentage to increase by about 0.23 percent."
   ]
  },
  {
   "cell_type": "markdown",
   "metadata": {},
   "source": [
    "We also want to know how strong this correlation is."
   ]
  },
  {
   "cell_type": "code",
   "execution_count": 63,
   "metadata": {
    "pycharm": {
     "name": "#%%\n"
    }
   },
   "outputs": [
    {
     "name": "stdout",
     "output_type": "stream",
     "text": [
      "                            OLS Regression Results                            \n",
      "==============================================================================\n",
      "Dep. Variable:         win_percentage   R-squared:                       0.012\n",
      "Model:                            OLS   Adj. R-squared:                  0.005\n",
      "Method:                 Least Squares   F-statistic:                     1.629\n",
      "Date:                Mon, 12 Dec 2022   Prob (F-statistic):              0.204\n",
      "Time:                        23:56:25   Log-Likelihood:                -571.55\n",
      "No. Observations:                 139   AIC:                             1147.\n",
      "Df Residuals:                     137   BIC:                             1153.\n",
      "Df Model:                           1                                         \n",
      "Covariance Type:            nonrobust                                         \n",
      "==============================================================================\n",
      "                 coef    std err          t      P>|t|      [0.025      0.975]\n",
      "------------------------------------------------------------------------------\n",
      "Intercept      4.4382     34.052      0.130      0.896     -62.897      71.773\n",
      "winner_ht      0.2325      0.182      1.276      0.204      -0.128       0.593\n",
      "==============================================================================\n",
      "Omnibus:                        0.632   Durbin-Watson:                   2.154\n",
      "Prob(Omnibus):                  0.729   Jarque-Bera (JB):                0.627\n",
      "Skew:                          -0.158   Prob(JB):                        0.731\n",
      "Kurtosis:                       2.909   Cond. No.                     5.04e+03\n",
      "==============================================================================\n",
      "\n",
      "Notes:\n",
      "[1] Standard Errors assume that the covariance matrix of the errors is correctly specified.\n",
      "[2] The condition number is large, 5.04e+03. This might indicate that there are\n",
      "strong multicollinearity or other numerical problems.\n"
     ]
    }
   ],
   "source": [
    "import statsmodels.formula.api as smf\n",
    "\n",
    "player_data = player_data.rename(columns={'win percentage':'win_percentage'})\n",
    "model = smf.ols(formula=\"win_percentage ~ winner_ht\", data=player_data).fit()\n",
    "\n",
    "print(model.summary())"
   ]
  },
  {
   "cell_type": "markdown",
   "metadata": {},
   "source": [
    "Looks like the r-squared value is 0.012, which means that the correlation coefficient is sqrt(0.012) = 0.11.\n",
    "This is not a very strong correlation, so it appears that while height does have an effect on a player's performance, the effect is not substantial.\n",
    "\n",
    "In addition, the p-values for the slope and intercept coefficients of the model are quite high (0.204 and 0.896 respectively), so the model may not very accurate for predicting a player's win rate based solely on their height."
   ]
  },
  {
   "cell_type": "markdown",
   "metadata": {},
   "source": [
    "# Part 4: Hypothesis Testing\n",
    "\n",
    "In this part, I will conduct a difference of means t-test to see if left-handed players really do have a significant advantage over right-handed players."
   ]
  },
  {
   "cell_type": "markdown",
   "metadata": {},
   "source": [
    "Let's first see how many left and right players there are:"
   ]
  },
  {
   "cell_type": "code",
   "execution_count": 66,
   "metadata": {
    "pycharm": {
     "name": "#%%\n"
    }
   },
   "outputs": [
    {
     "data": {
      "text/plain": [
       "winner_hand\n",
       "R    118\n",
       "L     21\n",
       "dtype: int64"
      ]
     },
     "execution_count": 66,
     "metadata": {},
     "output_type": "execute_result"
    }
   ],
   "source": [
    "player_data.value_counts('winner_hand')"
   ]
  },
  {
   "cell_type": "markdown",
   "metadata": {},
   "source": [
    "So there are 118 right-handed players and 21 left-handed players."
   ]
  },
  {
   "cell_type": "markdown",
   "metadata": {},
   "source": [
    "Group the players by their dominant hand and look at their average win percentage for the year:"
   ]
  },
  {
   "cell_type": "code",
   "execution_count": 38,
   "metadata": {
    "pycharm": {
     "name": "#%%\n"
    }
   },
   "outputs": [
    {
     "data": {
      "text/html": [
       "<div>\n",
       "<style scoped>\n",
       "    .dataframe tbody tr th:only-of-type {\n",
       "        vertical-align: middle;\n",
       "    }\n",
       "\n",
       "    .dataframe tbody tr th {\n",
       "        vertical-align: top;\n",
       "    }\n",
       "\n",
       "    .dataframe thead th {\n",
       "        text-align: right;\n",
       "    }\n",
       "</style>\n",
       "<table border=\"1\" class=\"dataframe\">\n",
       "  <thead>\n",
       "    <tr style=\"text-align: right;\">\n",
       "      <th></th>\n",
       "      <th>winner_ht</th>\n",
       "      <th>wins</th>\n",
       "      <th>losses</th>\n",
       "      <th>matches</th>\n",
       "      <th>win percentage</th>\n",
       "    </tr>\n",
       "    <tr>\n",
       "      <th>winner_hand</th>\n",
       "      <th></th>\n",
       "      <th></th>\n",
       "      <th></th>\n",
       "      <th></th>\n",
       "      <th></th>\n",
       "    </tr>\n",
       "  </thead>\n",
       "  <tbody>\n",
       "    <tr>\n",
       "      <th>L</th>\n",
       "      <td>184.571429</td>\n",
       "      <td>17.190476</td>\n",
       "      <td>16.523810</td>\n",
       "      <td>33.714286</td>\n",
       "      <td>47.067252</td>\n",
       "    </tr>\n",
       "    <tr>\n",
       "      <th>R</th>\n",
       "      <td>187.211864</td>\n",
       "      <td>19.872881</td>\n",
       "      <td>17.542373</td>\n",
       "      <td>37.415254</td>\n",
       "      <td>48.016024</td>\n",
       "    </tr>\n",
       "  </tbody>\n",
       "</table>\n",
       "</div>"
      ],
      "text/plain": [
       "              winner_ht       wins     losses    matches  win percentage\n",
       "winner_hand                                                             \n",
       "L            184.571429  17.190476  16.523810  33.714286       47.067252\n",
       "R            187.211864  19.872881  17.542373  37.415254       48.016024"
      ]
     },
     "execution_count": 38,
     "metadata": {},
     "output_type": "execute_result"
    }
   ],
   "source": [
    "player_data.groupby(['winner_hand']).mean()"
   ]
  },
  {
   "cell_type": "markdown",
   "metadata": {},
   "source": [
    "We want the assumptions of the t-test to hold, so let's check if the distributions of win percentages for left and right-handed players follow a normal distribution.\n",
    "\n",
    "Plot histograms for each hand:"
   ]
  },
  {
   "cell_type": "code",
   "execution_count": 42,
   "metadata": {
    "pycharm": {
     "name": "#%%\n"
    }
   },
   "outputs": [
    {
     "data": {
      "image/png": "[encoded data removed]",
      "text/plain": [
       "<Figure size 432x288 with 1 Axes>"
      ]
     },
     "metadata": {
      "needs_background": "light"
     },
     "output_type": "display_data"
    }
   ],
   "source": [
    "lefties = player_data[player_data['winner_hand'] == 'L']\n",
    "plt.hist(lefties['win percentage'])\n",
    "plt.show()"
   ]
  },
  {
   "cell_type": "code",
   "execution_count": 44,
   "metadata": {
    "pycharm": {
     "name": "#%%\n"
    }
   },
   "outputs": [
    {
     "data": {
      "image/png": "[encoded data removed]",
      "text/plain": [
       "<Figure size 432x288 with 1 Axes>"
      ]
     },
     "metadata": {
      "needs_background": "light"
     },
     "output_type": "display_data"
    }
   ],
   "source": [
    "righties = player_data[player_data['winner_hand'] == 'R']\n",
    "plt.hist(righties['win percentage'])\n",
    "plt.show()"
   ]
  },
  {
   "cell_type": "markdown",
   "metadata": {},
   "source": [
    "The win percentages for right-handed players appear to be closely resemble a normal distribution. The win percentages for left-handed players also appear somewhat normally distributed, but keep in mind that the sample size for left-handed players is relatively small (21 players)."
   ]
  },
  {
   "cell_type": "markdown",
   "metadata": {},
   "source": [
    "Let us now conduct a difference of means t-test.\n",
    "\n",
    "Null Hypothesis: mu1 = mu2\n",
    "Alternative Hypothesis: mu1 != mu2"
   ]
  },
  {
   "cell_type": "code",
   "execution_count": null,
   "metadata": {
    "pycharm": {
     "name": "#%%\n"
    }
   },
   "outputs": [],
   "source": []
  },
  {
   "cell_type": "markdown",
   "metadata": {},
   "source": [
    "# Part 5: Conclusion"
   ]
  }
 ],
 "metadata": {
  "kernelspec": {
   "display_name": "Python 3 (ipykernel)",
   "language": "python",
   "name": "python3"
  },
  "language_info": {
   "codemirror_mode": {
    "name": "ipython",
    "version": 3
   },
   "file_extension": ".py",
   "mimetype": "text/x-python",
   "name": "python",
   "nbconvert_exporter": "python",
   "pygments_lexer": "ipython3",
   "version": "3.9.12"
  }
 },
 "nbformat": 4,
 "nbformat_minor": 1
}
